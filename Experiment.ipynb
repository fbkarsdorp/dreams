{
 "metadata": {
  "name": "",
  "signature": "sha256:9e3dd2fe2aa8b5235d28cc09cf4fd5cc59adf814d1cc141bdff6aa5d2ca75147"
 },
 "nbformat": 3,
 "nbformat_minor": 0,
 "worksheets": [
  {
   "cells": [
    {
     "cell_type": "heading",
     "level": 1,
     "metadata": {},
     "source": [
      "Multilabel Classification in the Dreambank"
     ]
    },
    {
     "cell_type": "heading",
     "level": 4,
     "metadata": {},
     "source": [
      "Folgert Karsdorp"
     ]
    },
    {
     "cell_type": "heading",
     "level": 2,
     "metadata": {},
     "source": [
      "Setup"
     ]
    },
    {
     "cell_type": "markdown",
     "metadata": {},
     "source": [
      "The Dreambank is a collection of transcribed dreams, that have been annotated using the Hall van de Castle System. In a set of 991 dreams, the dreambank has been annotated for the following information:\n",
      "\n",
      "- activities ($n=4814$);\n",
      "- characters ($n=2597$);\n",
      "- emotions ($n=696$);\n",
      "- social interactions ($n=1370$):\n",
      "    - aggression ($n=729$);\n",
      "    - friendliness ($n=550$);\n",
      "    - sexuality ($n=91$);\n",
      "- striving ($n=243$):\n",
      "    - succes ($n=113$);\n",
      "    - failure ($n=130$);\n",
      "- good fortune and misfortune:\n",
      "    - good fortune ($n=61$);\n",
      "    - bad fortune ($n=407$);\n",
      "- objects ($n=5044$);\n",
      "- settings (outdoor, etc.) ($n=1289$);\n",
      "\n",
      "In this notebook I give a description of the experiments I have done on automatically assigning some of these annotations to the Dreambank. All source files and scripts can be found in the same directory as this notebook. \n",
      "\n",
      "The purpose of automatic annotation is to assist dream researchers in annotating large collections of dreams. Therefore, I chose to use models from *Information Retrieval* that produce rankings of labels where the goal is to assign to the highest ranks, the most appropriate labels for a particular dream. \n",
      "\n",
      "I experimented with the following three models.\n",
      "\n",
      "#### Small Document IR model\n",
      "\n",
      "In the small document setup, queries are formed by all words of a dream. Queries are then matched against all individual dreams in the training data and ranked using Okapi BM25. After removing all duplicate labels, we evaluate the performance using mean average precision.\n",
      "\n",
      "#### Big Document IR model\n",
      "\n",
      "In the big document setup, again queries are formed by all words of a dream. Different from the small document setup is that for each unique label, we merge all documents into one big document that contain that label. These labels then form the class label of the big documents. We match each query against each big document and rank the big documents using BM25. Performance is meassured with mean average precision.\n",
      "\n",
      "#### Multi-Label IR model\n",
      "\n",
      "The Multi-Label IR model follows the same query mechanism as the other two models. The model is based on a proposal by Zhang & Zou (2007) ([click here](http://citeseerx.ist.psu.edu/viewdoc/download;jsessionid=7A0E2422C713672E81928AF14CAD3F82?doi=10.1.1.89.7148&rep=rep1&type=pdf) for the paper) that for each unseen dream, first identifies its $k$ nearest neighbors using the small document IR model. After that we apply the maximum a posteriori principle on the basis of statistical information of the label sets of these $k$ neighbors, to determine the label set of the unseen dream (see the complete algorithm below). \n",
      "\n",
      "![](ML-knn.png)\n",
      "\n",
      "We produce a ranking of labels on the basis the their posterior probability and again evaluate using mean average precision. "
     ]
    },
    {
     "cell_type": "heading",
     "level": 2,
     "metadata": {},
     "source": [
      "Experiments"
     ]
    },
    {
     "cell_type": "markdown",
     "metadata": {},
     "source": [
      "First we import all required models, functions and classes:"
     ]
    },
    {
     "cell_type": "code",
     "collapsed": false,
     "input": [
      "import numpy as np\n",
      "from IRSystem import IRSystem, ML_IRSystem\n",
      "from metrics import mean_average_precision\n",
      "from dream_experiment import read_dreams, read_labels, match_labels_documents"
     ],
     "language": "python",
     "metadata": {},
     "outputs": [],
     "prompt_number": 150
    },
    {
     "cell_type": "markdown",
     "metadata": {},
     "source": [
      "Next we read all dreams that have been annotated for lemmata and part of speech using the Stanford Core NLP toolkit:"
     ]
    },
    {
     "cell_type": "code",
     "collapsed": false,
     "input": [
      "documents = {doc_id: text for doc_id, text in read_dreams(\"data/dreambank.en.stanford.out\", \n",
      "                                                          lemmata=True)}"
     ],
     "language": "python",
     "metadata": {},
     "outputs": [],
     "prompt_number": 151
    },
    {
     "cell_type": "markdown",
     "metadata": {},
     "source": [
      "We'll store the results of all experiments in the following table:"
     ]
    },
    {
     "cell_type": "code",
     "collapsed": false,
     "input": [
      "import pandas as pd\n",
      "\n",
      "score_df = pd.DataFrame(columns=['fortune', 'actions', 'objects', 'emotions', \n",
      "                                 'settings', 'combined'],\n",
      "                        index=['small_doc', 'big_doc', 'ml'])"
     ],
     "language": "python",
     "metadata": {},
     "outputs": [],
     "prompt_number": 152
    },
    {
     "cell_type": "heading",
     "level": 3,
     "metadata": {},
     "source": [
      "Good fortune / Misfortune"
     ]
    },
    {
     "cell_type": "markdown",
     "metadata": {},
     "source": [
      "In the first experiment we will look at the classifications of good versus misfortune. We read the label file and match the labels against the documents:"
     ]
    },
    {
     "cell_type": "code",
     "collapsed": false,
     "input": [
      "labels_fortune = list(read_labels(\"data/labels.hcnorms_misgoodfortune.all.txt\"))\n",
      "labels_fortune, texts = zip(*match_labels_documents(documents, labels_fortune))\n",
      "labels_fortune, texts = np.array(labels_fortune), np.array(texts)"
     ],
     "language": "python",
     "metadata": {},
     "outputs": [],
     "prompt_number": 250
    },
    {
     "cell_type": "markdown",
     "metadata": {},
     "source": [
      "In this and all following experiments we make use of 10-fold cross-validation. We set the parameters of BM25 to $k1=1.2$ and $b=0.75$. \n",
      "\n",
      "Before we run the different models, let's first have a look at some of the statistics of the labels sets:"
     ]
    },
    {
     "cell_type": "code",
     "collapsed": false,
     "input": [
      "def flatten_labels(labels):\n",
      "    for i in labels:\n",
      "        if isinstance(i, list) or isinstance(i, tuple):\n",
      "            for j in flatten_labels(i):\n",
      "                yield j\n",
      "        else:\n",
      "            yield i"
     ],
     "language": "python",
     "metadata": {},
     "outputs": [],
     "prompt_number": 213
    },
    {
     "cell_type": "code",
     "collapsed": false,
     "input": [
      "print len(set(flatten_labels(list(labels_fortune))))"
     ],
     "language": "python",
     "metadata": {},
     "outputs": [
      {
       "output_type": "stream",
       "stream": "stdout",
       "text": [
        "7\n"
       ]
      }
     ],
     "prompt_number": 214
    },
    {
     "cell_type": "markdown",
     "metadata": {},
     "source": [
      "There are 7 different labels in the labels_fortune dataset. They follow the following distribution:"
     ]
    },
    {
     "cell_type": "code",
     "collapsed": false,
     "input": [
      "label_counts = pd.Series(Counter(flatten_labels(list(labels_fortune))))\n",
      "label_counts.plot(kind='bar')"
     ],
     "language": "python",
     "metadata": {},
     "outputs": [
      {
       "metadata": {},
       "output_type": "pyout",
       "prompt_number": 216,
       "text": [
        "<matplotlib.axes._subplots.AxesSubplot at 0x119513a10>"
       ]
      },
      {
       "metadata": {},
       "output_type": "display_data",
       "png": "[encoded data removed]",
       "text": [
        "<matplotlib.figure.Figure at 0x119576a50>"
       ]
      }
     ],
     "prompt_number": 216
    },
    {
     "cell_type": "code",
     "collapsed": false,
     "input": [
      "from collections import Counter\n",
      "from sklearn.cross_validation import KFold\n",
      "from utils import flatten, unique_everseen\n",
      "\n",
      "def small_doc_experiment(X, y):\n",
      "    kf = KFold(len(y), n_folds=10, shuffle=True, random_state=1)\n",
      "    rank_scores = np.zeros(10)\n",
      "    for i, (train, test) in enumerate(kf):\n",
      "        # separate dataset into training (or index) and test set\n",
      "        X_train, X_test, y_train, y_test = X[train], X[test], y[train], y[test]\n",
      "        # make a set of all unique labels\n",
      "        labels = set(flatten(list(y_train)))\n",
      "        # initialize the IR System\n",
      "        model = IRSystem(k1=1.2, b=0.85, cutoff=0)\n",
      "        # Fit the model with unigrams, remove all stopwords and hapaxes.\n",
      "        model.fit_raw(X_train, y_train, ngram_range=(1, 1), stop_words='english', min_df=2)\n",
      "        # compute the ranking\n",
      "        ranking = model.rank_labels(X_test, raw=True).tolist()\n",
      "        # remove all duplicate labels\n",
      "        ranking = map(lambda r: list(unique_everseen(r)), map(flatten, ranking))\n",
      "        ranking, y_test = zip(*[(r, y_) for r, y_ in zip(ranking, y_test) if any(l in labels for l in y_)])\n",
      "        # compute the average precision\n",
      "        rank_scores[i] = mean_average_precision(ranking, y_test)\n",
      "    return rank_scores"
     ],
     "language": "python",
     "metadata": {},
     "outputs": [],
     "prompt_number": 258
    },
    {
     "cell_type": "code",
     "collapsed": false,
     "input": [
      "scores = small_doc_experiment(texts, labels_fortune)\n",
      "score_df['fortune']['small_doc'] = scores.mean()\n",
      "print 'Average MAP over 10 folds: %.2f (+/- %.2f)' % (scores.mean(), scores.std())"
     ],
     "language": "python",
     "metadata": {},
     "outputs": [
      {
       "output_type": "stream",
       "stream": "stdout",
       "text": [
        "Average MAP over 10 folds: 0.54 (+/- 0.08)\n"
       ]
      }
     ],
     "prompt_number": 260
    },
    {
     "cell_type": "markdown",
     "metadata": {},
     "source": [
      "Next we run the same experiment, using the big document setup:"
     ]
    },
    {
     "cell_type": "code",
     "collapsed": false,
     "input": [
      "from collections import defaultdict\n",
      "\n",
      "def big_doc_experiment(X, y):\n",
      "    kf = KFold(len(y), n_folds=10, shuffle=True, random_state=1)\n",
      "    rank_scores = np.zeros(10)\n",
      "    for i, (train, test) in enumerate(kf):\n",
      "        # separate dataset into training (or index) and test set\n",
      "        X_train, X_test, y_train, y_test = X[train], X[test], y[train], y[test]\n",
      "        big_docs = defaultdict(str)\n",
      "        for (labels, doc) in zip(y_train, X_train):\n",
      "            for label in labels:\n",
      "                big_docs[label] += \" \" + doc\n",
      "        y_train, X_train = zip(*big_docs.items())\n",
      "        # make a set of all unique labels\n",
      "        labels = set(flatten(list(y_train)))\n",
      "        # initialize the IR System\n",
      "        model = IRSystem(k1=1.2, b=0.75, cutoff=0)\n",
      "        # Fit the model with unigrams, remove all stopwords and hapaxes.\n",
      "        model.fit_raw(X_train, y_train, ngram_range=(1, 1), stop_words='english', min_df=2)\n",
      "        # compute the ranking\n",
      "        ranking = model.rank_labels(X_test, raw=True)\n",
      "        ranking, y_test = zip(*[(r, y_) for r, y_ in zip(ranking, y_test) if any(l in labels for l in y_)])\n",
      "        # compute the average precision\n",
      "        rank_scores[i] = mean_average_precision(ranking, y_test)\n",
      "    return rank_scores"
     ],
     "language": "python",
     "metadata": {},
     "outputs": [],
     "prompt_number": 156
    },
    {
     "cell_type": "code",
     "collapsed": false,
     "input": [
      "scores = big_doc_experiment(texts, labels_fortune)\n",
      "score_df['fortune']['big_doc'] = scores.mean()\n",
      "print 'Average MAP over 10 folds: %.2f (+/- %.2f)' % (scores.mean(), scores.std())"
     ],
     "language": "python",
     "metadata": {},
     "outputs": [
      {
       "output_type": "stream",
       "stream": "stdout",
       "text": [
        "Average MAP over 10 folds: 0.52 (+/- 0.03)\n"
       ]
      }
     ],
     "prompt_number": 261
    },
    {
     "cell_type": "markdown",
     "metadata": {},
     "source": [
      "Finally we run an experiment using the Multi-Label IR system:"
     ]
    },
    {
     "cell_type": "code",
     "collapsed": false,
     "input": [
      "def ml_experiment(X, y, num_neighbors=101):\n",
      "    kf = KFold(len(y), n_folds=10, shuffle=True, random_state=1)\n",
      "    rank_scores = np.zeros(10)\n",
      "    for i, (train, test) in enumerate(kf):\n",
      "        # separate dataset into training (or index) and test set\n",
      "        X_train, X_test, y_train, y_test = X[train], X[test], y[train], y[test]\n",
      "        # make a set of all unique labels\n",
      "        labels = set(flatten(list(y_train)))\n",
      "        # initialize the ML-IR System\n",
      "        model = ML_IRSystem(num_neighbors=num_neighbors, smooth=1., k1=1.2, b=0.75, cutoff=0)\n",
      "        # Fit the model with unigrams, remove all stopwords and hapaxes.\n",
      "        model.fit_raw(X_train, y_train, ngram_range=(1, 1), stop_words='english', min_df=2)\n",
      "        # compute the ranking\n",
      "        ranking = model.rank(X_test, raw=True)\n",
      "        ranking = [sorted(ranks, key=ranks.__getitem__, reverse=True) for ranks in ranking]\n",
      "        ranking, y_test = zip(*[(r, y_) for r, y_ in zip(ranking, y_test) if any(l in labels for l in y_)])\n",
      "        # compute the average precision\n",
      "        rank_scores[i] = mean_average_precision(ranking, y_test)\n",
      "    return rank_scores"
     ],
     "language": "python",
     "metadata": {},
     "outputs": [],
     "prompt_number": 193
    },
    {
     "cell_type": "markdown",
     "metadata": {},
     "source": [
      "For the Multi Label IR system, it is important to set the right number of neighbors. Here we experiment with a number of different settings:"
     ]
    },
    {
     "cell_type": "code",
     "collapsed": false,
     "input": [
      "scores = np.zeros(11)\n",
      "for i, k in enumerate(range(1, 102, 10)):\n",
      "    scores[i] = ml_experiment(texts, labels_fortune, num_neighbors=k).mean()\n",
      "sb.plt.plot(range(1, 102, 10), scores)"
     ],
     "language": "python",
     "metadata": {},
     "outputs": [
      {
       "metadata": {},
       "output_type": "pyout",
       "prompt_number": 198,
       "text": [
        "[<matplotlib.lines.Line2D at 0x1177ffd10>]"
       ]
      },
      {
       "metadata": {},
       "output_type": "display_data",
       "png": "[encoded data removed]",
       "text": [
        "<matplotlib.figure.Figure at 0x1172fea90>"
       ]
      }
     ],
     "prompt_number": 198
    },
    {
     "cell_type": "code",
     "collapsed": false,
     "input": [
      "scores = ml_experiment(texts, labels_fortune)\n",
      "score_df['fortune']['ml'] = scores.mean()\n",
      "print 'Average MAP over 10 folds: %.2f (+/- %.2f)' % (scores.mean(), scores.std())"
     ],
     "language": "python",
     "metadata": {},
     "outputs": [
      {
       "output_type": "stream",
       "stream": "stdout",
       "text": [
        "Average MAP over 10 folds: 0.57 (+/- 0.03)\n"
       ]
      }
     ],
     "prompt_number": 262
    },
    {
     "cell_type": "markdown",
     "metadata": {},
     "source": [
      "The fortune label set can be divided into a good fortune versus misfortune label set instead of the more finegrained original label set. We evaluate the performance of the models on the simplified label set:"
     ]
    },
    {
     "cell_type": "code",
     "collapsed": false,
     "input": [
      "labels_fortune = [(doc, list(set(l[:2] for l in labels))) for \n",
      "     doc, labels in list(read_labels(\"data/labels.hcnorms_misgoodfortune.all.txt\"))]\n",
      "labels_fortune, texts = zip(*match_labels_documents(documents, labels_fortune))\n",
      "labels_fortune, texts = np.array(labels_fortune), np.array(texts)"
     ],
     "language": "python",
     "metadata": {},
     "outputs": [],
     "prompt_number": 241
    },
    {
     "cell_type": "markdown",
     "metadata": {},
     "source": [
      "The label distribution is rather skewed:"
     ]
    },
    {
     "cell_type": "code",
     "collapsed": false,
     "input": [
      "Counter(flatten_labels(labels_fortune))"
     ],
     "language": "python",
     "metadata": {},
     "outputs": [
      {
       "metadata": {},
       "output_type": "pyout",
       "prompt_number": 243,
       "text": [
        "Counter({'mf': 344, 'gf': 61})"
       ]
      }
     ],
     "prompt_number": 243
    },
    {
     "cell_type": "code",
     "collapsed": false,
     "input": [
      "scores = small_doc_experiment(texts, labels_fortune)\n",
      "score_df['fortune']['small_doc'] = scores.mean()\n",
      "print 'Average MAP over 10 folds: %.2f (+/- %.2f)' % (scores.mean(), scores.std())"
     ],
     "language": "python",
     "metadata": {},
     "outputs": [
      {
       "output_type": "stream",
       "stream": "stdout",
       "text": [
        "Average MAP over 10 folds: 0.90 (+/- 0.03)\n"
       ]
      }
     ],
     "prompt_number": 244
    },
    {
     "cell_type": "code",
     "collapsed": false,
     "input": [
      "scores = big_doc_experiment(texts, labels_fortune)\n",
      "score_df['fortune']['big_doc'] = scores.mean()\n",
      "print 'Average MAP over 10 folds: %.2f (+/- %.2f)' % (scores.mean(), scores.std())"
     ],
     "language": "python",
     "metadata": {},
     "outputs": [
      {
       "output_type": "stream",
       "stream": "stdout",
       "text": [
        "Average MAP over 10 folds: 0.96 (+/- 0.02)\n"
       ]
      }
     ],
     "prompt_number": 245
    },
    {
     "cell_type": "code",
     "collapsed": false,
     "input": [
      "scores = ml_experiment(texts, labels_fortune)\n",
      "score_df['fortune']['ml'] = scores.mean()\n",
      "print 'Average MAP over 10 folds: %.2f (+/- %.2f)' % (scores.mean(), scores.std())"
     ],
     "language": "python",
     "metadata": {},
     "outputs": [
      {
       "output_type": "stream",
       "stream": "stdout",
       "text": [
        "Average MAP over 10 folds: 0.96 (+/- 0.02)\n"
       ]
      }
     ],
     "prompt_number": 246
    },
    {
     "cell_type": "heading",
     "level": 3,
     "metadata": {},
     "source": [
      "Actions"
     ]
    },
    {
     "cell_type": "markdown",
     "metadata": {},
     "source": [
      "The next experiment focusses on the action annotations. "
     ]
    },
    {
     "cell_type": "code",
     "collapsed": false,
     "input": [
      "labels_actions = list(read_labels(\"data/dream_acts.txt\"))\n",
      "labels_actions, texts = zip(*match_labels_documents(documents, labels_actions))\n",
      "labels_actions, texts = np.array(labels_actions), np.array(texts)"
     ],
     "language": "python",
     "metadata": {},
     "outputs": [],
     "prompt_number": 199
    },
    {
     "cell_type": "markdown",
     "metadata": {},
     "source": [
      "The label set follow the following distribution:"
     ]
    },
    {
     "cell_type": "code",
     "collapsed": false,
     "input": [
      "label_counts = pd.Series(Counter(flatten_labels(list(labels_actions))))\n",
      "label_counts.plot(kind='bar', figsize=(14, 6))"
     ],
     "language": "python",
     "metadata": {},
     "outputs": [
      {
       "metadata": {},
       "output_type": "pyout",
       "prompt_number": 219,
       "text": [
        "<matplotlib.axes._subplots.AxesSubplot at 0x123086110>"
       ]
      },
      {
       "metadata": {},
       "output_type": "display_data",
       "png": "[encoded data removed]",
       "text": [
        "<matplotlib.figure.Figure at 0x123091750>"
       ]
      }
     ],
     "prompt_number": 219
    },
    {
     "cell_type": "code",
     "collapsed": false,
     "input": [
      "scores = small_doc_experiment(texts, labels_actions)\n",
      "score_df['actions']['small_doc'] = scores.mean()\n",
      "print 'Average MAP over 10 folds: %.2f (+/- %.2f)' % (scores.mean(), scores.std())"
     ],
     "language": "python",
     "metadata": {},
     "outputs": [
      {
       "output_type": "stream",
       "stream": "stdout",
       "text": [
        "Average MAP over 10 folds: 0.60 (+/- 0.01)\n"
       ]
      }
     ],
     "prompt_number": 161
    },
    {
     "cell_type": "code",
     "collapsed": false,
     "input": [
      "scores = big_doc_experiment(texts, labels_actions)\n",
      "score_df['actions']['big_doc'] = scores.mean()\n",
      "print 'Average MAP over 10 folds: %.2f (+/- %.2f)' % (scores.mean(), scores.std())"
     ],
     "language": "python",
     "metadata": {},
     "outputs": [
      {
       "output_type": "stream",
       "stream": "stdout",
       "text": [
        "Average MAP over 10 folds: 0.56 (+/- 0.02)\n"
       ]
      }
     ],
     "prompt_number": 162
    },
    {
     "cell_type": "code",
     "collapsed": false,
     "input": [
      "scores = ml_experiment(texts, labels_actions)\n",
      "score_df['actions']['ml'] = scores.mean()\n",
      "print 'Average MAP over 10 folds: %.2f (+/- %.2f)' % (scores.mean(), scores.std())"
     ],
     "language": "python",
     "metadata": {},
     "outputs": [
      {
       "output_type": "stream",
       "stream": "stdout",
       "text": [
        "Average MAP over 10 folds: 0.73 (+/- 0.03)\n"
       ]
      }
     ],
     "prompt_number": 163
    },
    {
     "cell_type": "code",
     "collapsed": false,
     "input": [
      "scores = np.zeros(11)\n",
      "for i, k in enumerate(range(1, 102, 10)):\n",
      "    scores[i] = ml_experiment(texts, labels_actions, num_neighbors=k).mean()\n",
      "sb.plt.plot(range(1, 102, 10), scores)"
     ],
     "language": "python",
     "metadata": {},
     "outputs": [
      {
       "metadata": {},
       "output_type": "pyout",
       "prompt_number": 200,
       "text": [
        "[<matplotlib.lines.Line2D at 0x1159efad0>]"
       ]
      },
      {
       "metadata": {},
       "output_type": "display_data",
       "png": "[encoded data removed]",
       "text": [
        "<matplotlib.figure.Figure at 0x117a69390>"
       ]
      }
     ],
     "prompt_number": 200
    },
    {
     "cell_type": "heading",
     "level": 3,
     "metadata": {},
     "source": [
      "Settings"
     ]
    },
    {
     "cell_type": "markdown",
     "metadata": {},
     "source": [
      "Now, let's turn to the settings annotations."
     ]
    },
    {
     "cell_type": "code",
     "collapsed": false,
     "input": [
      "labels_settings = list(read_labels(\"data/dream_sets.txt\"))\n",
      "labels_settings, texts = zip(*match_labels_documents(documents, labels_settings))\n",
      "labels_settings, texts = np.array(labels_settings), np.array(texts)"
     ],
     "language": "python",
     "metadata": {},
     "outputs": [],
     "prompt_number": 201
    },
    {
     "cell_type": "markdown",
     "metadata": {},
     "source": [
      "The label set follows the following distribution:"
     ]
    },
    {
     "cell_type": "code",
     "collapsed": false,
     "input": [
      "label_counts = pd.Series(Counter(flatten_labels(list(labels_settings))))\n",
      "label_counts.plot(kind='bar', figsize=(14, 6))"
     ],
     "language": "python",
     "metadata": {},
     "outputs": [
      {
       "metadata": {},
       "output_type": "pyout",
       "prompt_number": 222,
       "text": [
        "<matplotlib.axes._subplots.AxesSubplot at 0x12467bf50>"
       ]
      },
      {
       "metadata": {},
       "output_type": "display_data",
       "png": "[encoded data removed]",
       "text": [
        "<matplotlib.figure.Figure at 0x123dddf90>"
       ]
      }
     ],
     "prompt_number": 222
    },
    {
     "cell_type": "code",
     "collapsed": false,
     "input": [
      "scores = small_doc_experiment(texts, labels_settings)\n",
      "score_df['settings']['small_doc'] = scores.mean()\n",
      "print 'Average MAP over 10 folds: %.2f (+/- %.2f)' % (scores.mean(), scores.std())"
     ],
     "language": "python",
     "metadata": {},
     "outputs": [
      {
       "output_type": "stream",
       "stream": "stdout",
       "text": [
        "Average MAP over 10 folds: 0.47 (+/- 0.04)\n"
       ]
      }
     ],
     "prompt_number": 165
    },
    {
     "cell_type": "code",
     "collapsed": false,
     "input": [
      "scores = big_doc_experiment(texts, labels_settings)\n",
      "score_df['settings']['big_doc'] = scores.mean()\n",
      "print 'Average MAP over 10 folds: %.2f (+/- %.2f)' % (scores.mean(), scores.std())"
     ],
     "language": "python",
     "metadata": {},
     "outputs": [
      {
       "output_type": "stream",
       "stream": "stdout",
       "text": [
        "Average MAP over 10 folds: 0.46 (+/- 0.03)\n"
       ]
      }
     ],
     "prompt_number": 166
    },
    {
     "cell_type": "code",
     "collapsed": false,
     "input": [
      "scores = ml_experiment(texts, labels_settings)\n",
      "score_df['settings']['ml'] = scores.mean()\n",
      "print 'Average MAP over 10 folds: %.2f (+/- %.2f)' % (scores.mean(), scores.std())"
     ],
     "language": "python",
     "metadata": {},
     "outputs": [
      {
       "output_type": "stream",
       "stream": "stdout",
       "text": [
        "Average MAP over 10 folds: 0.57 (+/- 0.03)\n"
       ]
      }
     ],
     "prompt_number": 167
    },
    {
     "cell_type": "code",
     "collapsed": false,
     "input": [
      "scores = np.zeros(11)\n",
      "for i, k in enumerate(range(1, 102, 10)):\n",
      "    scores[i] = ml_experiment(texts, labels_settings, num_neighbors=k).mean()\n",
      "sb.plt.plot(range(1, 102, 10), scores)"
     ],
     "language": "python",
     "metadata": {},
     "outputs": [
      {
       "metadata": {},
       "output_type": "pyout",
       "prompt_number": 202,
       "text": [
        "[<matplotlib.lines.Line2D at 0x116ecd290>]"
       ]
      },
      {
       "metadata": {},
       "output_type": "display_data",
       "png": "[encoded data removed]",
       "text": [
        "<matplotlib.figure.Figure at 0x117b64d50>"
       ]
      }
     ],
     "prompt_number": 202
    },
    {
     "cell_type": "heading",
     "level": 3,
     "metadata": {},
     "source": [
      "Objects"
     ]
    },
    {
     "cell_type": "markdown",
     "metadata": {},
     "source": [
      "Now, let's focus on the actions annotations:"
     ]
    },
    {
     "cell_type": "code",
     "collapsed": false,
     "input": [
      "labels_objects = list(read_labels(\"data/labels_obj.txt\"))\n",
      "labels_objects, texts = zip(*match_labels_documents(documents, labels_objects))\n",
      "labels_objects, texts = np.array(labels_objects), np.array(texts)"
     ],
     "language": "python",
     "metadata": {},
     "outputs": [],
     "prompt_number": 203
    },
    {
     "cell_type": "markdown",
     "metadata": {},
     "source": [
      "The labels are distributed as follows:"
     ]
    },
    {
     "cell_type": "code",
     "collapsed": false,
     "input": [
      "label_counts = pd.Series(Counter(flatten_labels(list(labels_objects))))\n",
      "label_counts.plot(kind='bar', figsize=(14, 6))"
     ],
     "language": "python",
     "metadata": {},
     "outputs": [
      {
       "metadata": {},
       "output_type": "pyout",
       "prompt_number": 223,
       "text": [
        "<matplotlib.axes._subplots.AxesSubplot at 0x1247bff50>"
       ]
      },
      {
       "metadata": {},
       "output_type": "display_data",
       "png": "[encoded data removed]",
       "text": [
        "<matplotlib.figure.Figure at 0x124726610>"
       ]
      }
     ],
     "prompt_number": 223
    },
    {
     "cell_type": "markdown",
     "metadata": {},
     "source": [
      "Let's see how well the different models perform."
     ]
    },
    {
     "cell_type": "code",
     "collapsed": false,
     "input": [
      "scores = small_doc_experiment(texts, labels_objects)\n",
      "score_df['objects']['small_doc'] = scores.mean()\n",
      "print 'Average MAP over 10 folds: %.2f (+/- %.2f)' % (scores.mean(), scores.std())"
     ],
     "language": "python",
     "metadata": {},
     "outputs": [
      {
       "output_type": "stream",
       "stream": "stdout",
       "text": [
        "Average MAP over 10 folds: 0.48 (+/- 0.02)\n"
       ]
      }
     ],
     "prompt_number": 169
    },
    {
     "cell_type": "code",
     "collapsed": false,
     "input": [
      "scores = big_doc_experiment(texts, labels_objects)\n",
      "score_df['objects']['big_doc'] = scores.mean()\n",
      "print 'Average MAP over 10 folds: %.2f (+/- %.2f)' % (scores.mean(), scores.std())"
     ],
     "language": "python",
     "metadata": {},
     "outputs": [
      {
       "output_type": "stream",
       "stream": "stdout",
       "text": [
        "Average MAP over 10 folds: 0.44 (+/- 0.01)\n"
       ]
      }
     ],
     "prompt_number": 170
    },
    {
     "cell_type": "code",
     "collapsed": false,
     "input": [
      "scores = ml_experiment(texts, labels_objects)\n",
      "score_df['objects']['ml'] = scores.mean()\n",
      "print 'Average MAP over 10 folds: %.2f (+/- %.2f)' % (scores.mean(), scores.std())"
     ],
     "language": "python",
     "metadata": {},
     "outputs": [
      {
       "output_type": "stream",
       "stream": "stdout",
       "text": [
        "Average MAP over 10 folds: 0.66 (+/- 0.02)\n"
       ]
      }
     ],
     "prompt_number": 171
    },
    {
     "cell_type": "code",
     "collapsed": false,
     "input": [
      "scores = np.zeros(11)\n",
      "for i, k in enumerate(range(1, 102, 10)):\n",
      "    scores[i] = ml_experiment(texts, labels_objects, num_neighbors=k).mean()\n",
      "sb.plt.plot(range(1, 102, 10), scores)"
     ],
     "language": "python",
     "metadata": {},
     "outputs": [
      {
       "metadata": {},
       "output_type": "pyout",
       "prompt_number": 204,
       "text": [
        "[<matplotlib.lines.Line2D at 0x11df9ee50>]"
       ]
      },
      {
       "metadata": {},
       "output_type": "display_data",
       "png": "[encoded data removed]",
       "text": [
        "<matplotlib.figure.Figure at 0x1178167d0>"
       ]
      }
     ],
     "prompt_number": 204
    },
    {
     "cell_type": "heading",
     "level": 3,
     "metadata": {},
     "source": [
      "Emotions"
     ]
    },
    {
     "cell_type": "markdown",
     "metadata": {},
     "source": [
      "We start with reading into memory the emotion labels:"
     ]
    },
    {
     "cell_type": "code",
     "collapsed": false,
     "input": [
      "labels_emotions = list(read_labels(\"data/labels_emo.txt\"))\n",
      "labels_emotions, texts = zip(*match_labels_documents(documents, labels_emotions))\n",
      "labels_emotions, texts = np.array(labels_emotions), np.array(texts)"
     ],
     "language": "python",
     "metadata": {},
     "outputs": [],
     "prompt_number": 205
    },
    {
     "cell_type": "markdown",
     "metadata": {},
     "source": [
      "The dreambank distinguishes 5 different labels which are distributed as follows:"
     ]
    },
    {
     "cell_type": "code",
     "collapsed": false,
     "input": [
      "label_counts = pd.Series(Counter(flatten_labels(list(labels_emotions))))\n",
      "label_counts.plot(kind='bar', figsize=(14, 6))"
     ],
     "language": "python",
     "metadata": {},
     "outputs": [
      {
       "metadata": {},
       "output_type": "pyout",
       "prompt_number": 225,
       "text": [
        "<matplotlib.axes._subplots.AxesSubplot at 0x124a6c5d0>"
       ]
      },
      {
       "metadata": {},
       "output_type": "display_data",
       "png": "[encoded data removed]",
       "text": [
        "<matplotlib.figure.Figure at 0x1247c3b10>"
       ]
      }
     ],
     "prompt_number": 225
    },
    {
     "cell_type": "code",
     "collapsed": false,
     "input": [
      "scores = small_doc_experiment(texts, labels_emotions)\n",
      "score_df['emotions']['small_doc'] = scores.mean()\n",
      "print 'Average MAP over 10 folds: %.2f (+/- %.2f)' % (scores.mean(), scores.std())"
     ],
     "language": "python",
     "metadata": {},
     "outputs": [
      {
       "output_type": "stream",
       "stream": "stdout",
       "text": [
        "Average MAP over 10 folds: 0.58 (+/- 0.03)\n"
       ]
      }
     ],
     "prompt_number": 173
    },
    {
     "cell_type": "code",
     "collapsed": false,
     "input": [
      "scores = big_doc_experiment(texts, labels_emotions)\n",
      "score_df['emotions']['big_doc'] = scores.mean()\n",
      "print 'Average MAP over 10 folds: %.2f (+/- %.2f)' % (scores.mean(), scores.std())"
     ],
     "language": "python",
     "metadata": {},
     "outputs": [
      {
       "output_type": "stream",
       "stream": "stdout",
       "text": [
        "Average MAP over 10 folds: 0.58 (+/- 0.02)\n"
       ]
      }
     ],
     "prompt_number": 174
    },
    {
     "cell_type": "code",
     "collapsed": false,
     "input": [
      "scores = ml_experiment(texts, labels_emotions)\n",
      "score_df['emotions']['ml'] = scores.mean()\n",
      "print 'Average MAP over 10 folds: %.2f (+/- %.2f)' % (scores.mean(), scores.std())"
     ],
     "language": "python",
     "metadata": {},
     "outputs": [
      {
       "output_type": "stream",
       "stream": "stdout",
       "text": [
        "Average MAP over 10 folds: 0.67 (+/- 0.04)\n"
       ]
      }
     ],
     "prompt_number": 175
    },
    {
     "cell_type": "code",
     "collapsed": false,
     "input": [
      "scores = np.zeros(11)\n",
      "for i, k in enumerate(range(1, 102, 10)):\n",
      "    scores[i] = ml_experiment(texts, labels_emotions, num_neighbors=k).mean()\n",
      "sb.plt.plot(range(1, 102, 10), scores)"
     ],
     "language": "python",
     "metadata": {},
     "outputs": [
      {
       "metadata": {},
       "output_type": "pyout",
       "prompt_number": 206,
       "text": [
        "[<matplotlib.lines.Line2D at 0x117c35b10>]"
       ]
      },
      {
       "metadata": {},
       "output_type": "display_data",
       "png": "[encoded data removed]",
       "text": [
        "<matplotlib.figure.Figure at 0x11937d650>"
       ]
      }
     ],
     "prompt_number": 206
    },
    {
     "cell_type": "heading",
     "level": 3,
     "metadata": {},
     "source": [
      "All labels combined"
     ]
    },
    {
     "cell_type": "markdown",
     "metadata": {},
     "source": [
      "It would be interesting to combine all different label categories into a single task. One reason to do so is to investigate the possibility that the presence of a label from a particular category $A$ increases the likelihood of a label from category $B$."
     ]
    },
    {
     "cell_type": "code",
     "collapsed": false,
     "input": [
      "all_labels = list(read_labels(\"data/all_labels.txt\"))\n",
      "all_labels, texts = zip(*match_labels_documents(documents, all_labels))\n",
      "all_labels, texts = np.array(all_labels), np.array(texts)"
     ],
     "language": "python",
     "metadata": {},
     "outputs": [],
     "prompt_number": 265
    },
    {
     "cell_type": "code",
     "collapsed": false,
     "input": [
      "scores = small_doc_experiment(texts, all_labels)\n",
      "score_df['combined']['small_doc'] = scores.mean()\n",
      "print 'Average MAP over 10 folds: %.2f (+/- %.2f)' % (scores.mean(), scores.std())"
     ],
     "language": "python",
     "metadata": {},
     "outputs": [
      {
       "output_type": "stream",
       "stream": "stdout",
       "text": [
        "Average MAP over 10 folds: 0.41 (+/- 0.02)\n"
       ]
      }
     ],
     "prompt_number": 177
    },
    {
     "cell_type": "code",
     "collapsed": false,
     "input": [
      "scores = big_doc_experiment(texts, all_labels)\n",
      "score_df['combined']['big_doc'] = scores.mean()\n",
      "print 'Average MAP over 10 folds: %.2f (+/- %.2f)' % (scores.mean(), scores.std())"
     ],
     "language": "python",
     "metadata": {},
     "outputs": [
      {
       "output_type": "stream",
       "stream": "stdout",
       "text": [
        "Average MAP over 10 folds: 0.36 (+/- 0.02)\n"
       ]
      }
     ],
     "prompt_number": 178
    },
    {
     "cell_type": "code",
     "collapsed": false,
     "input": [
      "scores = ml_experiment(texts, all_labels)\n",
      "score_df['combined']['ml'] = scores.mean()\n",
      "print 'Average MAP over 10 folds: %.2f (+/- %.2f)' % (scores.mean(), scores.std())"
     ],
     "language": "python",
     "metadata": {},
     "outputs": [
      {
       "output_type": "stream",
       "stream": "stdout",
       "text": [
        "Average MAP over 10 folds: 0.58 (+/- 0.01)\n"
       ]
      }
     ],
     "prompt_number": 179
    },
    {
     "cell_type": "code",
     "collapsed": false,
     "input": [
      "scores = np.zeros(11)\n",
      "for i, k in enumerate(range(1, 102, 10)):\n",
      "    scores[i] = ml_experiment(texts, all_labels, num_neighbors=k).mean()\n",
      "sb.plt.plot(range(1, 102, 10), scores)"
     ],
     "language": "python",
     "metadata": {},
     "outputs": [
      {
       "metadata": {},
       "output_type": "pyout",
       "prompt_number": 208,
       "text": [
        "[<matplotlib.lines.Line2D at 0x119515590>]"
       ]
      },
      {
       "metadata": {},
       "output_type": "display_data",
       "png": "[encoded data removed]",
       "text": [
        "<matplotlib.figure.Figure at 0x117529890>"
       ]
      }
     ],
     "prompt_number": 208
    },
    {
     "cell_type": "heading",
     "level": 3,
     "metadata": {},
     "source": [
      "Overview"
     ]
    },
    {
     "cell_type": "markdown",
     "metadata": {},
     "source": [
      "Finally I give an overview of the results"
     ]
    },
    {
     "cell_type": "code",
     "collapsed": false,
     "input": [
      "%matplotlib inline"
     ],
     "language": "python",
     "metadata": {},
     "outputs": [],
     "prompt_number": 183
    },
    {
     "cell_type": "code",
     "collapsed": false,
     "input": [
      "import seaborn as sb"
     ],
     "language": "python",
     "metadata": {},
     "outputs": [],
     "prompt_number": 184
    },
    {
     "cell_type": "code",
     "collapsed": false,
     "input": [
      "score_df.plot(kind='bar', figsize=(14, 6))"
     ],
     "language": "python",
     "metadata": {},
     "outputs": [
      {
       "metadata": {},
       "output_type": "pyout",
       "prompt_number": 263,
       "text": [
        "<matplotlib.axes._subplots.AxesSubplot at 0x12419ef10>"
       ]
      },
      {
       "metadata": {},
       "output_type": "display_data",
       "png": "[encoded data removed]",
       "text": [
        "<matplotlib.figure.Figure at 0x112693810>"
       ]
      }
     ],
     "prompt_number": 263
    }
   ],
   "metadata": {}
  }
 ]
}